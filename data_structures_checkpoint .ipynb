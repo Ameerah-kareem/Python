{
 "cells": [
  {
   "cell_type": "code",
   "execution_count": null,
   "id": "74122d39-07cb-4500-921a-a046d399a4a0",
   "metadata": {},
   "outputs": [
    {
     "name": "stdout",
     "output_type": "stream",
     "text": [
      "Shopping List Manager\n",
      "1. Add item to list\n",
      "2. Remove item from list\n",
      "3. View current list\n",
      "4. Exit\n"
     ]
    },
    {
     "name": "stdin",
     "output_type": "stream",
     "text": [
      "Enter your choice between 1-4:  1\n",
      "Enter an item to add to the list:  fruits\n"
     ]
    },
    {
     "name": "stdout",
     "output_type": "stream",
     "text": [
      "Added 'fruits' to the list.\n",
      "Shopping List Manager\n",
      "1. Add item to list\n",
      "2. Remove item from list\n",
      "3. View current list\n",
      "4. Exit\n"
     ]
    },
    {
     "name": "stdin",
     "output_type": "stream",
     "text": [
      "Enter your choice between 1-4:  1\n",
      "Enter an item to add to the list:  cookies\n"
     ]
    },
    {
     "name": "stdout",
     "output_type": "stream",
     "text": [
      "Added 'cookies' to the list.\n",
      "Shopping List Manager\n",
      "1. Add item to list\n",
      "2. Remove item from list\n",
      "3. View current list\n",
      "4. Exit\n"
     ]
    },
    {
     "name": "stdin",
     "output_type": "stream",
     "text": [
      "Enter your choice between 1-4:  1\n",
      "Enter an item to add to the list:  ice-cream\n"
     ]
    },
    {
     "name": "stdout",
     "output_type": "stream",
     "text": [
      "Added 'ice-cream' to the list.\n",
      "Shopping List Manager\n",
      "1. Add item to list\n",
      "2. Remove item from list\n",
      "3. View current list\n",
      "4. Exit\n"
     ]
    },
    {
     "name": "stdin",
     "output_type": "stream",
     "text": [
      "Enter your choice between 1-4:  3\n"
     ]
    },
    {
     "name": "stdout",
     "output_type": "stream",
     "text": [
      "Current shopping list:\n",
      "1. fruits\n",
      "2. cookies\n",
      "3. ice-cream\n",
      "Shopping List Manager\n",
      "1. Add item to list\n",
      "2. Remove item from list\n",
      "3. View current list\n",
      "4. Exit\n"
     ]
    }
   ],
   "source": [
    "# Create a list to store the shopping items\n",
    "shopping_list = []\n",
    "\n",
    "# Set a maximum limit for the number of items in the list\n",
    "max_items = 10\n",
    "\n",
    "while True:\n",
    "    # Display the menu options\n",
    "    print(\"Shopping List Manager\")\n",
    "    print(\"1. Add item to list\")\n",
    "    print(\"2. Remove item from list\")\n",
    "    print(\"3. View current list\")\n",
    "    print(\"4. Exit\")\n",
    "\n",
    "    # Get the user's selection\n",
    "    selection = input(\"Enter your choice between 1-4: \")\n",
    "\n",
    "    # Perform the corresponding action\n",
    "    if selection == \"1\":\n",
    "        # Add item to list\n",
    "        if len(shopping_list) < max_items:\n",
    "            item = input(\"Enter an item to add to the list: \")\n",
    "            shopping_list.append(item)\n",
    "            print(f\"Added '{item}' to the list.\")\n",
    "        else:\n",
    "            print(\"List is full, Cannot add more items.\")\n",
    "    elif selection == \"2\":\n",
    "        # Remove item from list\n",
    "        item = input(\"Enter an item to remove from the list: \")\n",
    "        if item in shopping_list:\n",
    "            shopping_list.remove(item)\n",
    "            print(f\"Removed '{item}' from the list.\")\n",
    "        else:\n",
    "            print(f\"'{item}' not found in the list.\")\n",
    "    elif selection == \"3\":\n",
    "        # View current list\n",
    "        print(\"Current shopping list:\")\n",
    "        for i, item in enumerate(shopping_list):\n",
    "            print(f\"{i+1}. {item}\")\n",
    "    elif selection == \"4\":\n",
    "        # Exit the program\n",
    "        print(\"Goodbye!\")\n",
    "        break\n",
    "    else:\n",
    "        print(\"Invalid selection. Please try again.\")\n"
   ]
  }
 ],
 "metadata": {
  "kernelspec": {
   "display_name": "Python 3 (ipykernel)",
   "language": "python",
   "name": "python3"
  },
  "language_info": {
   "codemirror_mode": {
    "name": "ipython",
    "version": 3
   },
   "file_extension": ".py",
   "mimetype": "text/x-python",
   "name": "python",
   "nbconvert_exporter": "python",
   "pygments_lexer": "ipython3",
   "version": "3.11.7"
  }
 },
 "nbformat": 4,
 "nbformat_minor": 5
}
