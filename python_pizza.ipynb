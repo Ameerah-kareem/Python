{
 "cells": [
  {
   "cell_type": "code",
   "execution_count": 3,
   "id": "32bf10f9-d428-4b47-b949-1d22654fcce4",
   "metadata": {},
   "outputs": [
    {
     "name": "stdout",
     "output_type": "stream",
     "text": [
      "Welcome to Python Pizza Deliveries\n"
     ]
    },
    {
     "name": "stdin",
     "output_type": "stream",
     "text": [
      "Size of the pizza: small\n",
      "Do you want pepperoni?(yes or no) r\n"
     ]
    },
    {
     "name": "stdout",
     "output_type": "stream",
     "text": [
      "Invalid input. Please enter 'yes' or 'no'.\n"
     ]
    },
    {
     "name": "stdin",
     "output_type": "stream",
     "text": [
      "Do you want pepperoni? (yes or no)  yes\n"
     ]
    },
    {
     "name": "stdout",
     "output_type": "stream",
     "text": [
      "You chose: yes\n"
     ]
    },
    {
     "name": "stdin",
     "output_type": "stream",
     "text": [
      "extra_cheese?(yes or no) yes\n"
     ]
    },
    {
     "name": "stdout",
     "output_type": "stream",
     "text": [
      "Your final bill is: $18.00\n"
     ]
    }
   ],
   "source": [
    "print(\"Welcome to Python Pizza Deliveries\")\n",
    "#accept size from user\n",
    "size = input(\"Size of the pizza:\")\n",
    "if size == \"small\":\n",
    "    bill = 15\n",
    "elif size == \"medium\":\n",
    "    bill = 20\n",
    "else:\n",
    "    bill = 25 \n",
    "#ask if the user wants pepperoni\n",
    "add_pepperoni = input(\"Do you want pepperoni?(yes or no)\")\n",
    "while add_pepperoni not in [\"yes\", \"no\"]:\n",
    "    print(\"Invalid input. Please enter 'yes' or 'no'.\")\n",
    "    add_pepperoni = input(\"Do you want pepperoni? (yes or no) \")\n",
    "    print(\"You chose:\", add_pepperoni)\n",
    "if add_pepperoni == \"yes\":\n",
    "    if size == \"small\":\n",
    "        bill = bill + 2\n",
    "    else:\n",
    "        bill = bill + 3\n",
    "extra_cheese = input(\"extra_cheese?(yes or no)\")\n",
    "if extra_cheese == \"yes\":\n",
    "    bill = bill + 1\n",
    "print(f\"Your final bill is: ${bill:.2f}\")\n",
    "                    "
   ]
  }
 ],
 "metadata": {
  "kernelspec": {
   "display_name": "Python 3 (ipykernel)",
   "language": "python",
   "name": "python3"
  },
  "language_info": {
   "codemirror_mode": {
    "name": "ipython",
    "version": 3
   },
   "file_extension": ".py",
   "mimetype": "text/x-python",
   "name": "python",
   "nbconvert_exporter": "python",
   "pygments_lexer": "ipython3",
   "version": "3.11.7"
  }
 },
 "nbformat": 4,
 "nbformat_minor": 5
}
