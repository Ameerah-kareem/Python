{
 "cells": [
  {
   "cell_type": "code",
   "execution_count": 1,
   "id": "ff801587-eba3-40ee-8f37-727901163a65",
   "metadata": {},
   "outputs": [],
   "source": [
    "def add(a,b):\n",
    "    return a+b\n",
    "def subtract(a,b):\n",
    "    return a - b \n",
    "def multiply(a,b):\n",
    "    return a * b\n",
    "def divide(a,b):\n",
    "    return a / b \n",
    "\n",
    "\n"
   ]
  },
  {
   "cell_type": "code",
   "execution_count": 2,
   "id": "4aa0120b-5e35-46d9-bab3-96c8570a997e",
   "metadata": {},
   "outputs": [],
   "source": [
    "operations ={'+' : add,\n",
    "             '-' : subtract,\n",
    "             '*' : multiply,\n",
    "             '/' : divide\n",
    "            }"
   ]
  },
  {
   "cell_type": "code",
   "execution_count": null,
   "id": "64d2b809-bc1c-405f-975b-08b0c885982c",
   "metadata": {},
   "outputs": [
    {
     "name": "stdin",
     "output_type": "stream",
     "text": [
      "Enter the first number:  50\n"
     ]
    },
    {
     "name": "stdout",
     "output_type": "stream",
     "text": [
      "Available operations:\n",
      "+ - * / "
     ]
    },
    {
     "name": "stdin",
     "output_type": "stream",
     "text": [
      "Select an operation symbol:  *\n",
      "Enter the second number:  52\n"
     ]
    },
    {
     "name": "stdout",
     "output_type": "stream",
     "text": [
      "50.0 * 52.0 = 2600.0\n"
     ]
    },
    {
     "name": "stdin",
     "output_type": "stream",
     "text": [
      "Do you want to continue using the result as the first number for further calculations? (yes/no):  yes\n",
      "Select an operation symbol:  -\n",
      "Enter the second number:  4500\n"
     ]
    },
    {
     "name": "stdout",
     "output_type": "stream",
     "text": [
      "2600.0 - 4500.0 = -1900.0\n"
     ]
    },
    {
     "name": "stdin",
     "output_type": "stream",
     "text": [
      "Do you want to continue using the result as the first number for further calculations? (yes/no):  no\n",
      "Enter the first number:  255\n"
     ]
    },
    {
     "name": "stdout",
     "output_type": "stream",
     "text": [
      "Available operations:\n",
      "+ - * / "
     ]
    },
    {
     "name": "stdin",
     "output_type": "stream",
     "text": [
      "Select an operation symbol:  480\n",
      "Enter the second number:  4500\n"
     ]
    },
    {
     "name": "stdout",
     "output_type": "stream",
     "text": [
      "Invalid operation symbol. Please try again.\n"
     ]
    },
    {
     "name": "stdin",
     "output_type": "stream",
     "text": [
      "Select an operation symbol:  /\n",
      "Enter the second number:  4500\n"
     ]
    },
    {
     "name": "stdout",
     "output_type": "stream",
     "text": [
      "255.0 / 4500.0 = 0.056666666666666664\n"
     ]
    },
    {
     "name": "stdin",
     "output_type": "stream",
     "text": [
      "Do you want to continue using the result as the first number for further calculations? (yes/no):  no \n"
     ]
    }
   ],
   "source": [
    "def calculator():\n",
    "    num1 = float(input(\"Enter the first number: \"))\n",
    "    print(\"Available operations:\")\n",
    "    for op , functions in operations.items():\n",
    "        print(op, end=\" \")\n",
    "        should_continue = True\n",
    "    \n",
    "    while should_continue:\n",
    "        operation_symbol = input(\"Select an operation symbol: \")\n",
    "        num2 = float(input(\"Enter the second number: \"))\n",
    "        \n",
    "        if operation_symbol in operations:\n",
    "            calculation_function = operations[operation_symbol]\n",
    "            answer = calculation_function(num1, num2)\n",
    "            print(f\"{num1} {operation_symbol} {num2} = {answer}\")\n",
    "            \n",
    "            response = input(\"Do you want to continue using the result as the first number for further calculations? (yes/no): \")\n",
    "            if response.lower() == 'yes':\n",
    "                num1 = answer\n",
    "            else:\n",
    "                should_continue = False\n",
    "                calculator()\n",
    "        else:\n",
    "            print(\"Invalid operation symbol. Please try again.\")\n",
    "\n",
    "calculator()\n",
    "    \n"
   ]
  },
  {
   "cell_type": "code",
   "execution_count": null,
   "id": "73d72a9c-ddd0-4868-a988-f5829060c996",
   "metadata": {},
   "outputs": [],
   "source": []
  },
  {
   "cell_type": "code",
   "execution_count": null,
   "id": "72c873e3-df63-4163-a829-e3c5762caf47",
   "metadata": {},
   "outputs": [],
   "source": []
  }
 ],
 "metadata": {
  "kernelspec": {
   "display_name": "Python 3 (ipykernel)",
   "language": "python",
   "name": "python3"
  },
  "language_info": {
   "codemirror_mode": {
    "name": "ipython",
    "version": 3
   },
   "file_extension": ".py",
   "mimetype": "text/x-python",
   "name": "python",
   "nbconvert_exporter": "python",
   "pygments_lexer": "ipython3",
   "version": "3.11.7"
  }
 },
 "nbformat": 4,
 "nbformat_minor": 5
}
