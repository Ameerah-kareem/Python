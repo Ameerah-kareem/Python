{
 "cells": [
  {
   "cell_type": "code",
   "execution_count": 1,
   "id": "b60d921a-79d3-4831-9ada-5ee688b72253",
   "metadata": {},
   "outputs": [],
   "source": [
    "import numpy as np "
   ]
  },
  {
   "cell_type": "code",
   "execution_count": 2,
   "id": "b0a6a56f-d42f-4697-9d6e-4086ed03ba15",
   "metadata": {},
   "outputs": [],
   "source": [
    "grades = np.array([85, 90, 88, 92, 95, 80, 75, 98, 89, 83])"
   ]
  },
  {
   "cell_type": "code",
   "execution_count": 4,
   "id": "7de6bfba-dde4-45bb-9a1b-6c94947ebf9e",
   "metadata": {},
   "outputs": [
    {
     "name": "stdout",
     "output_type": "stream",
     "text": [
      "87.5\n"
     ]
    }
   ],
   "source": [
    "#mean of the grades\n",
    "mean = np.mean(grades)\n",
    "print(mean)"
   ]
  },
  {
   "cell_type": "code",
   "execution_count": 5,
   "id": "ccae47b1-8d34-4dff-812a-5ceaf4f5ad0e",
   "metadata": {},
   "outputs": [
    {
     "name": "stdout",
     "output_type": "stream",
     "text": [
      "88.5\n"
     ]
    }
   ],
   "source": [
    "#median of the grades\n",
    "median = np.median(grades)\n",
    "print(median)"
   ]
  },
  {
   "cell_type": "code",
   "execution_count": 6,
   "id": "13a81e79-26d2-41d5-94f8-cb7a75ede5a3",
   "metadata": {},
   "outputs": [
    {
     "name": "stdout",
     "output_type": "stream",
     "text": [
      "6.591661399070799\n"
     ]
    }
   ],
   "source": [
    "#standard deviation of the grades\n",
    "standard_deviation = np.std(grades)\n",
    "print(standard_deviation)"
   ]
  },
  {
   "cell_type": "code",
   "execution_count": 7,
   "id": "7f7523c9-d429-49f8-a32e-3954049ed617",
   "metadata": {},
   "outputs": [
    {
     "name": "stdout",
     "output_type": "stream",
     "text": [
      "98\n"
     ]
    }
   ],
   "source": [
    "#maximum grade\n",
    "max_grades = np.max(grades)\n",
    "print(max_grades)"
   ]
  },
  {
   "cell_type": "code",
   "execution_count": 8,
   "id": "0682c1da-099a-412f-89f4-134a0ab5f23a",
   "metadata": {},
   "outputs": [
    {
     "name": "stdout",
     "output_type": "stream",
     "text": [
      "75\n"
     ]
    }
   ],
   "source": [
    "#minimum grade\n",
    "min_grades = np.min(grades)\n",
    "print(min_grades)"
   ]
  },
  {
   "cell_type": "code",
   "execution_count": 9,
   "id": "1627ae27-9d0d-4e2e-84b2-2480db4ded6f",
   "metadata": {},
   "outputs": [
    {
     "name": "stdout",
     "output_type": "stream",
     "text": [
      "[75 80 83 85 88 89 90 92 95 98]\n"
     ]
    }
   ],
   "source": [
    "sorted = np.sort(grades)\n",
    "print(sorted)"
   ]
  },
  {
   "cell_type": "code",
   "execution_count": 10,
   "id": "c213449d-08c6-429d-8ec1-a8304d96f97c",
   "metadata": {},
   "outputs": [
    {
     "name": "stdout",
     "output_type": "stream",
     "text": [
      "7\n"
     ]
    }
   ],
   "source": [
    "index_max =  np.argmax(grades)\n",
    "print(index_max)"
   ]
  },
  {
   "cell_type": "code",
   "execution_count": 13,
   "id": "a4b88187-3085-467c-9c0f-f5421366d7e0",
   "metadata": {},
   "outputs": [
    {
     "name": "stdout",
     "output_type": "stream",
     "text": [
      "3\n"
     ]
    }
   ],
   "source": [
    "above_90 = np.sum(grades > 90)\n",
    "print(above_90)"
   ]
  },
  {
   "cell_type": "code",
   "execution_count": 23,
   "id": "6ddc8a25-00ad-41cc-8551-6c2607e94f42",
   "metadata": {},
   "outputs": [
    {
     "name": "stdout",
     "output_type": "stream",
     "text": [
      "10\n"
     ]
    }
   ],
   "source": [
    "total_grades = len(grades)\n",
    "print(total_grades)"
   ]
  },
  {
   "cell_type": "code",
   "execution_count": 24,
   "id": "7a660624-f4ed-41ec-a64c-35766789f6d4",
   "metadata": {},
   "outputs": [
    {
     "name": "stdout",
     "output_type": "stream",
     "text": [
      "30.0\n"
     ]
    }
   ],
   "source": [
    "above_90_percentage = (above_90 / total_grades) * 100\n",
    "print(above_90_percentage)"
   ]
  },
  {
   "cell_type": "code",
   "execution_count": 25,
   "id": "c1d29460-4523-45af-a7bc-15ea63f745a5",
   "metadata": {},
   "outputs": [
    {
     "name": "stdout",
     "output_type": "stream",
     "text": [
      "9\n",
      "90.0\n"
     ]
    }
   ],
   "source": [
    "#percentage above 75 and percentage\n",
    "above_75 = np.sum(grades > 75)\n",
    "print(above_75)\n",
    "above_75_percentage = (above_75 / total_grades) * 100\n",
    "print(above_75_percentage)"
   ]
  },
  {
   "cell_type": "code",
   "execution_count": 26,
   "id": "a840909e-12cd-4b0b-9831-bbf183725c5d",
   "metadata": {},
   "outputs": [
    {
     "name": "stdout",
     "output_type": "stream",
     "text": [
      "High performers: [92 95 98]\n"
     ]
    }
   ],
   "source": [
    "high_performers = grades[grades > 90]\n",
    "\n",
    "print(\"High performers:\", high_performers)"
   ]
  },
  {
   "cell_type": "code",
   "execution_count": 27,
   "id": "bae8b7d1-b74f-45b2-98a6-00a73a7bd8a3",
   "metadata": {},
   "outputs": [
    {
     "name": "stdout",
     "output_type": "stream",
     "text": [
      "Passing grades: [85 90 88 92 95 80 98 89 83]\n"
     ]
    }
   ],
   "source": [
    "passing_grades = grades[grades > 75]\n",
    "\n",
    "print(\"Passing grades:\", passing_grades)"
   ]
  },
  {
   "cell_type": "code",
   "execution_count": null,
   "id": "96745a91-ea23-4249-812f-c3450cc5c070",
   "metadata": {},
   "outputs": [],
   "source": []
  }
 ],
 "metadata": {
  "kernelspec": {
   "display_name": "Python 3 (ipykernel)",
   "language": "python",
   "name": "python3"
  },
  "language_info": {
   "codemirror_mode": {
    "name": "ipython",
    "version": 3
   },
   "file_extension": ".py",
   "mimetype": "text/x-python",
   "name": "python",
   "nbconvert_exporter": "python",
   "pygments_lexer": "ipython3",
   "version": "3.11.7"
  }
 },
 "nbformat": 4,
 "nbformat_minor": 5
}
