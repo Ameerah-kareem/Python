{
 "cells": [
  {
   "cell_type": "code",
   "execution_count": 1,
   "id": "9dded632-132b-497c-92c5-afb99c4ffb45",
   "metadata": {},
   "outputs": [],
   "source": [
    "def add(a,b):\n",
    "    return a+b\n",
    "def subtract(a,b):\n",
    "    return a - b \n",
    "def multiply(a,b):\n",
    "    return a * b\n",
    "def divide(a,b):\n",
    "    return a / b "
   ]
  },
  {
   "cell_type": "code",
   "execution_count": 2,
   "id": "4ce72ad6-b28e-4eac-bace-2f11e41830db",
   "metadata": {},
   "outputs": [],
   "source": [
    "operations ={'+' : add,\n",
    "             '-' : subtract,\n",
    "             '*' : multiply,\n",
    "             '/' : divide\n",
    "            }"
   ]
  },
  {
   "cell_type": "code",
   "execution_count": null,
   "id": "bb8604df-5ec1-4fe9-89d1-9fee5338ad74",
   "metadata": {},
   "outputs": [
    {
     "name": "stdin",
     "output_type": "stream",
     "text": [
      "Enter the first number:  50\n"
     ]
    },
    {
     "name": "stdout",
     "output_type": "stream",
     "text": [
      "Available operations:\n",
      "+ - * / "
     ]
    },
    {
     "name": "stdin",
     "output_type": "stream",
     "text": [
      "Select an operation symbol:  *\n",
      "Enter the second number:  505\n"
     ]
    },
    {
     "name": "stdout",
     "output_type": "stream",
     "text": [
      "50.0 * 505.0 = 25250.0\n"
     ]
    },
    {
     "name": "stdin",
     "output_type": "stream",
     "text": [
      "Do you want to continue using the result as the first number for further calculations? (yes/no):  yes\n",
      "Select an operation symbol:  /\n",
      "Enter the second number:  450\n"
     ]
    },
    {
     "name": "stdout",
     "output_type": "stream",
     "text": [
      "25250.0 / 450.0 = 56.111111111111114\n"
     ]
    },
    {
     "name": "stdin",
     "output_type": "stream",
     "text": [
      "Do you want to continue using the result as the first number for further calculations? (yes/no):  no\n",
      "Enter the first number:  3800\n"
     ]
    },
    {
     "name": "stdout",
     "output_type": "stream",
     "text": [
      "Available operations:\n",
      "+ - * / "
     ]
    },
    {
     "name": "stdin",
     "output_type": "stream",
     "text": [
      "Select an operation symbol:  2\n",
      "Enter the second number:  34555\n"
     ]
    },
    {
     "name": "stdout",
     "output_type": "stream",
     "text": [
      "Invalid operation symbol. Please try again.\n"
     ]
    },
    {
     "name": "stdin",
     "output_type": "stream",
     "text": [
      "Select an operation symbol:  670\n",
      "Enter the second number:  4500\n"
     ]
    },
    {
     "name": "stdout",
     "output_type": "stream",
     "text": [
      "Invalid operation symbol. Please try again.\n"
     ]
    },
    {
     "name": "stdin",
     "output_type": "stream",
     "text": [
      "Select an operation symbol:  *\n",
      "Enter the second number:  4500\n"
     ]
    },
    {
     "name": "stdout",
     "output_type": "stream",
     "text": [
      "3800.0 * 4500.0 = 17100000.0\n"
     ]
    }
   ],
   "source": [
    "def calculator():\n",
    "    num1 = float(input(\"Enter the first number: \"))\n",
    "    print(\"Available operations:\")\n",
    "    for op , functions in operations.items():\n",
    "        print(op, end=\" \")\n",
    "        should_continue = True\n",
    "    \n",
    "    while should_continue:\n",
    "        operation_symbol = input(\"Select an operation symbol: \")\n",
    "        num2 = float(input(\"Enter the second number: \"))\n",
    "        \n",
    "        if operation_symbol in operations:\n",
    "            calculation_function = operations[operation_symbol]\n",
    "            answer = calculation_function(num1, num2)\n",
    "            print(f\"{num1} {operation_symbol} {num2} = {answer}\")\n",
    "            \n",
    "            response = input(\"Do you want to continue using the result as the first number for further calculations? (yes/no): \")\n",
    "            if response.lower() == 'yes':\n",
    "                num1 = answer\n",
    "            else:\n",
    "                should_continue = False\n",
    "                calculator()\n",
    "        else:\n",
    "            print(\"Invalid operation symbol. Please try again.\")\n",
    "\n",
    "calculator()\n",
    "    \n"
   ]
  }
 ],
 "metadata": {
  "kernelspec": {
   "display_name": "Python 3 (ipykernel)",
   "language": "python",
   "name": "python3"
  },
  "language_info": {
   "codemirror_mode": {
    "name": "ipython",
    "version": 3
   },
   "file_extension": ".py",
   "mimetype": "text/x-python",
   "name": "python",
   "nbconvert_exporter": "python",
   "pygments_lexer": "ipython3",
   "version": "3.11.7"
  }
 },
 "nbformat": 4,
 "nbformat_minor": 5
}
