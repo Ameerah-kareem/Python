{
 "cells": [
  {
   "cell_type": "code",
   "execution_count": 1,
   "id": "999a1176-888f-4b7f-974e-0d6b69ee3ee1",
   "metadata": {},
   "outputs": [],
   "source": [
    "class Account:\n",
    "    def __init__(self, account_number: str, account_balance: float, account_holder: str):\n",
    "        self.account_number = account_number\n",
    "        self.account_balance = account_balance\n",
    "        self.account_holder = account_holder\n",
    "\n",
    "    def deposit(self, amount: float):\n",
    "        self.account_balance += amount\n",
    "\n",
    "    def withdraw(self, amount: float):\n",
    "        if self.account_balance >= amount:\n",
    "            self.account_balance -= amount\n",
    "        else:\n",
    "            print(\"Insufficient balance\")\n",
    "\n",
    "    def check_balance(self):\n",
    "        return self.account_balance\n"
   ]
  },
  {
   "cell_type": "code",
   "execution_count": 2,
   "id": "471d33d4-f994-4089-a640-ffc32a4c0e6e",
   "metadata": {},
   "outputs": [],
   "source": [
    "# Create an instance of the Account class\n",
    "my_account = Account(\"1234567890\", 100000.0, \"Kareem Ameerah\")\n"
   ]
  },
  {
   "cell_type": "code",
   "execution_count": 3,
   "id": "e925a34c-1dad-4edc-86a3-047a92357cf6",
   "metadata": {},
   "outputs": [
    {
     "name": "stdout",
     "output_type": "stream",
     "text": [
      "Balance after deposit: 150000.0\n"
     ]
    }
   ],
   "source": [
    "# Deposit money\n",
    "my_account.deposit(50000.0)\n",
    "print(\"Balance after deposit:\", my_account.check_balance())"
   ]
  },
  {
   "cell_type": "code",
   "execution_count": 4,
   "id": "bb4d6c9e-14b5-4ca4-8e1a-5258f3a506cf",
   "metadata": {},
   "outputs": [
    {
     "name": "stdout",
     "output_type": "stream",
     "text": [
      "Balance after withdrawal: 148000.0\n"
     ]
    }
   ],
   "source": [
    "# Withdraw money\n",
    "my_account.withdraw(2000.0)\n",
    "print(\"Balance after withdrawal:\", my_account.check_balance())\n"
   ]
  },
  {
   "cell_type": "code",
   "execution_count": 5,
   "id": "7ad5cebb-3611-4dbc-a9d1-1a5f217763dc",
   "metadata": {},
   "outputs": [
    {
     "name": "stdout",
     "output_type": "stream",
     "text": [
      "Balance after attempted withdrawal: 133000.0\n"
     ]
    }
   ],
   "source": [
    "# Try to withdraw more than the balance\n",
    "my_account.withdraw(15000.0)\n",
    "print(\"Balance after attempted withdrawal:\", my_account.check_balance())"
   ]
  },
  {
   "cell_type": "code",
   "execution_count": 6,
   "id": "e454eb05-e1d3-413a-a832-a39791c5b796",
   "metadata": {},
   "outputs": [],
   "source": [
    "# Create another instance of the Account class\n",
    "another_account = Account(\"9876543210\", 50000.0, \"Kareem ALim\")\n"
   ]
  },
  {
   "cell_type": "code",
   "execution_count": 7,
   "id": "9136b103-ed70-4f94-9c08-4d044c9a7118",
   "metadata": {},
   "outputs": [
    {
     "name": "stdout",
     "output_type": "stream",
     "text": [
      "Balance of another account after deposit: 70000.0\n"
     ]
    }
   ],
   "source": [
    "# Deposit and withdraw money from the second account\n",
    "another_account.deposit(20000.0)\n",
    "print(\"Balance of another account after deposit:\", another_account.check_balance())"
   ]
  },
  {
   "cell_type": "code",
   "execution_count": null,
   "id": "21c065c9-4627-4254-8754-0087af952349",
   "metadata": {},
   "outputs": [],
   "source": []
  }
 ],
 "metadata": {
  "kernelspec": {
   "display_name": "Python 3 (ipykernel)",
   "language": "python",
   "name": "python3"
  },
  "language_info": {
   "codemirror_mode": {
    "name": "ipython",
    "version": 3
   },
   "file_extension": ".py",
   "mimetype": "text/x-python",
   "name": "python",
   "nbconvert_exporter": "python",
   "pygments_lexer": "ipython3",
   "version": "3.11.7"
  }
 },
 "nbformat": 4,
 "nbformat_minor": 5
}
