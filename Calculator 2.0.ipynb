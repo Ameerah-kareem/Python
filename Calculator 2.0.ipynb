{
 "cells": [
  {
   "cell_type": "markdown",
   "id": "e78f53d7-1d0b-451e-87de-74d4781795ec",
   "metadata": {},
   "source": [
    "## Advanced Calculator Program\r\n",
    "In this exercise, you will expand on the basic calculator program by adding more advanced mathematical operations and error handling using object-oriented programming.\r\n",
    "\r\n",
    "ructioon\n",
    "\n",
    "ns\r\n",
    "Create a new file called calculator_2.0.2. py.\r\n",
    "Create a class called Calculator that contains the low3\n",
    " ing:\r\n",
    "A dictionary attribute to store the available mathematical operations and their corresponding functions.\r\n",
    "A method called __init__ that initializes the dictionary with the basic mathematical operations (+, -, *, /) and corresponding functions.\r\n",
    "A method called add_operation that takes in two arguments: the operation symbol and the corresponding function. This method should add the new operation and function to the di\n",
    "tionary.\r\n",
    "A method called calculate that takes in three arguments: the first number, the operation symbol, and the second number. This method should use the dictionary to determine the appropriate function to perform the calculation. It should also include error handling to check if the operation symbol is valid and if the input values are numbers. If an error is encountered, the method should print an error message and raise an exception.\r\n",
    "Create separate functions for the advanced mathematical operations (exponentiation, square root, logarithm) and use the add_operation method to add them to the calculator's dictionary.\r\n",
    "In the main program, create an instance of the Calculator class, and use a while loop that allows the user to continue performing calculations until they choose to exit.\r\n",
    "Use the input() function to get input from the user for the numbers and operation symbol.\r\n",
    "Use the math library for advanced mathematical opera ns.\r\n",
    "Use the isinstance() function to chck if the inpu\n",
    "t is a number."
   ]
  },
  {
   "cell_type": "code",
   "execution_count": 1,
   "id": "7d9e5656-6a73-437f-8299-62333c680bb9",
   "metadata": {},
   "outputs": [],
   "source": [
    "import math"
   ]
  },
  {
   "cell_type": "code",
   "execution_count": 2,
   "id": "b2980730-3741-4482-9a85-2531f556f301",
   "metadata": {},
   "outputs": [],
   "source": [
    "# Defining the functions for the basic math operations\n",
    "\n",
    "def add(self, num1, num2):\n",
    "    return num1 + num2\n",
    "    \n",
    "def subtract(self, num1, num2):\n",
    "    return num1 - num2\n",
    "\n",
    "def multiply(self, num1, num2):\n",
    "    return num1 * num2\n",
    "\n",
    "def divide(self, num1, num2):\n",
    "    if num2 == 0:\n",
    "        print(\"Error: Division by zero is not allowed.\")\n",
    "    return num1 / num2"
   ]
  },
  {
   "cell_type": "code",
   "execution_count": 3,
   "id": "94982362-e0dc-4965-bb48-0d33f88c0ebc",
   "metadata": {},
   "outputs": [],
   "source": [
    "class Calculator:\n",
    "    def __init__(self):\n",
    "        # Initializing the operations dictionary with basic operations and their corresponding methods\n",
    "        self.operations = {\n",
    "            '+': self.add,\n",
    "            '-': self.subtract,\n",
    "            '*': self.multiply,\n",
    "            '/': self.divide\n",
    "        }\n",
    "    \n",
    "    def add_operation(self, symbol, function):\n",
    "        # Adding a new operation to the operations dictionary\n",
    "        self.operations[symbol] = function\n",
    "    \n",
    "    def calculate(self, num1, operation, num2):\n",
    "        # Checking if the operation is valid\n",
    "        if operation not in self.operations:\n",
    "            print(f\"Error: '{operation}' is not a valid operation.\")\n",
    "        \n",
    "        # Checking if the inputs are numbers\n",
    "        if not (isinstance(num1, (int, float)) and isinstance(num2, (int, float))):\n",
    "        # The isinstance() function returns True if the specified object is of the specified type, otherwise False.    \n",
    "            print(\"Error: Both numbers must be integers or floats.\")\n",
    "        \n",
    "        # Retrieving the function corresponding to the operation\n",
    "        function = self.operations[operation] \n",
    "        return function(num1, num2)  # Executing the function with num1 and num2 as arguments\n"
   ]
  },
  {
   "cell_type": "code",
   "execution_count": 4,
   "id": "13d74ff8-2ada-4dbd-a144-b62c530009ee",
   "metadata": {},
   "outputs": [],
   "source": [
    "class Calculator:\n",
    "    def add(self, num1, num2):\n",
    "        return num1 + num2\n",
    "\n",
    "    def subtract(self, num1, num2):\n",
    "        # Subtracting the second number from the first number\n",
    "        return num1 - num2\n",
    "\n",
    "    def multiply(self, num1, num2):\n",
    "        # Multiplying two numbers\n",
    "        return num1 * num2\n",
    "\n",
    "    def divide(self, num1, num2):\n",
    "        if num2 == 0:\n",
    "            print(\"Error: Division by zero is not allowed.\")\n",
    "        else:\n",
    "            return num1 / num2\n",
    "\n",
    "    def __init__(self):\n",
    "        self.operations = {\n",
    "            '+': self.add,\n",
    "            '-': self.subtract,\n",
    "            '*': self.multiply,\n",
    "            '/': self.divide\n",
    "        }\n",
    "\n",
    "    def add_operation(self, symbol, function):\n",
    "        # Adding a new operation to the operations dictionary\n",
    "        self.operations[symbol] = function\n",
    "\n",
    "    def calculate(self, num1, operation, num2):\n",
    "        # Checking if the operation is valid\n",
    "        if operation not in self.operations:\n",
    "            print(f\"Error: '{operation}' is not a valid operation.\")\n",
    "            return None\n",
    "        # Checking if the inputs are numbers\n",
    "        if not (isinstance(num1, (int, float)) and isinstance(num2, (int, float))):\n",
    "            # The isinstance() function returns True if the specified object is of the specified type, otherwise False.    \n",
    "            print(\"Error: Both numbers must be integers or floats.\")\n",
    "            return None\n",
    "        function = self.operations[operation] \n",
    "        return function(num1, num2)  # Executing the function with num1 and num2 as arguments\n"
   ]
  },
  {
   "cell_type": "code",
   "execution_count": 5,
   "id": "6bbdef81-26d0-4c94-b72a-7650499427af",
   "metadata": {},
   "outputs": [],
   "source": [
    "# Creating an instance of the Calculator class\n",
    "calc = Calculator()"
   ]
  },
  {
   "cell_type": "code",
   "execution_count": 11,
   "id": "4e6b3b86-fbca-4223-97dd-418b530b2cf4",
   "metadata": {},
   "outputs": [],
   "source": [
    "# functions for the advanced mathematical operations\n",
    "def exponentiate(num1, num2):\n",
    "    # Raising the first number to the power of the second number\n",
    "    return num1 ** num2\n",
    "\n",
    "def sqrt(num1, _):\n",
    "    # Calculating the square root of the first number\n",
    "    return math.sqrt(num1)\n",
    "\n",
    "def logarithm(num1, num2):\n",
    "    # Calculating the logarithm of num1 with base num2, with checks for valid inputs\n",
    "    if num1 <= 0:\n",
    "        print(\"Error: Logarithm base must be greater than 0.\")\n",
    "    if num2 <= 0 or num2 == 1:\n",
    "        print(\"Error: Logarithm argument must be greater than 0 and not equal to 1.\")\n",
    "    return math.log(num1, num2)  # Calculating the logarithm"
   ]
  },
  {
   "cell_type": "code",
   "execution_count": 12,
   "id": "1a1f3835-1b4b-4e0c-b10e-3e6793178a5d",
   "metadata": {},
   "outputs": [],
   "source": [
    "# Adding advanced operations to the calculator\n",
    "calc.add_operation('^', exponentiate)\n",
    "calc.add_operation('sqrt', sqrt)\n",
    "calc.add_operation('log', logarithm)"
   ]
  },
  {
   "cell_type": "code",
   "execution_count": 13,
   "id": "11726496-88dd-4472-9a16-1b982dce5b0a",
   "metadata": {},
   "outputs": [
    {
     "name": "stdin",
     "output_type": "stream",
     "text": [
      "Enter the first number (or type 'exit' to quit):  6700\n",
      "Enter the second number:  890\n",
      "Enter the operation (+, -, *, /, ^, sqrt, log):  log\n"
     ]
    },
    {
     "name": "stdout",
     "output_type": "stream",
     "text": [
      "The result is: 1.2972427498841324\n"
     ]
    },
    {
     "name": "stdin",
     "output_type": "stream",
     "text": [
      "Enter the first number (or type 'exit' to quit):  450\n",
      "Enter the second number:  78654443\\\n",
      "Enter the operation (+, -, *, /, ^, sqrt, log):  sqrt\n"
     ]
    },
    {
     "name": "stdout",
     "output_type": "stream",
     "text": [
      "The result is: 21.213203435596427\n"
     ]
    },
    {
     "name": "stdin",
     "output_type": "stream",
     "text": [
      "Enter the first number (or type 'exit' to quit):  exit\n"
     ]
    }
   ],
   "source": [
    "while True:\n",
    "    # Prompting the user to enter the first number or exit the program\n",
    "    num1_input = input(\"Enter the first number (or type 'exit' to quit): \")\n",
    "    if num1_input.lower() == 'exit':\n",
    "        break  # Exiting the loop if the user types 'exit'\n",
    "\n",
    "    # Prompting the user to enter the second number\n",
    "    num2_input = input(\"Enter the second number: \")\n",
    "\n",
    "    # Prompting the user to enter the operation\n",
    "    operation = input(\"Enter the operation (+, -, *, /, ^, sqrt, log): \")\n",
    "\n",
    "    # Converting inputs to floats\n",
    "    num1 = float(num1_input)\n",
    "    num2 = float(num2_input) if operation != 'sqrt' else 0  # sqrt only needs one number\n",
    "\n",
    "    # Performing the calculation\n",
    "    result = calc.calculate(num1, operation, num2)\n",
    "\n",
    "    # Displaying the result\n",
    "    print(f\"The result is: {result}\")"
   ]
  }
 ],
 "metadata": {
  "kernelspec": {
   "display_name": "Python 3 (ipykernel)",
   "language": "python",
   "name": "python3"
  },
  "language_info": {
   "codemirror_mode": {
    "name": "ipython",
    "version": 3
   },
   "file_extension": ".py",
   "mimetype": "text/x-python",
   "name": "python",
   "nbconvert_exporter": "python",
   "pygments_lexer": "ipython3",
   "version": "3.11.7"
  }
 },
 "nbformat": 4,
 "nbformat_minor": 5
}
